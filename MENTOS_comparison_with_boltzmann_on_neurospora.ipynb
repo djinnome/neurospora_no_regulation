{
 "cells": [
  {
   "cell_type": "markdown",
   "metadata": {},
   "source": [
    "# SBML to Boltzmann"
   ]
  },
  {
   "cell_type": "code",
   "execution_count": null,
   "metadata": {
    "collapsed": true
   },
   "outputs": [],
   "source": [
    "import re\n",
    "class sbml2boltzmann:\n",
    "    def __init__( self, sbml, deltag ):\n",
    "        self.sbml = sbml\n",
    "        self.deltag = deltag\n",
    "        self.ordRE = re.compile('__([0-9]+)__')\n",
    "    def repl( self, matchobj ):\n",
    "        return chr(int(matchobj.group(1)))\n",
    "   \n",
    "    def unmunge( self, sbmlid, prefix='M_' ):\n",
    "        return self.ordRE.sub( self.repl, sbmlid[len(prefix):])\n",
    "   \n",
    "    def get_met_comp( self, speciesId ):\n",
    "        s = self.sbml.getSpecies(speciesId)\n",
    "        if s.getCompartment() == 'CCO__45__CYTOSOL':\n",
    "            return self.unmunge( s.getId() + ':' + s.getCompartment() )\n",
    "        else:\n",
    "            return self.unmunge( s.getId()).replace('[',':').rstrip(']')\n",
    "       \n",
    "    def write_compartment( self, filename ):\n",
    "        with open(filename, 'w') as out:\n",
    "            i = 1\n",
    "            for comp in self.sbml.getListOfCompartments():\n",
    "                out.write('{}\\t{}\\tliters\\t0\\tV\\n'.format(self.unmunge(comp.getId()), float(i)))\n",
    "                i +=1\n",
    "    def write_concentrations( self, filename, volume=1.0e-15, conc_units=1.0e-9, default_conc=1.1111111e-01):\n",
    "        with open(filename, 'w') as out:\n",
    "            out.write('VOLUME\\t{}\\n'.format(volume))\n",
    "            out.write('CONC_UNITS\\t{}\\n'.format(conc_units))\n",
    "            for species in self.sbml.getListOfSpecies():\n",
    "                if species.getBoundaryCondition():\n",
    "                    boundary = 'F'\n",
    "                else:\n",
    "                    boundary = 'V'\n",
    "                out.write('{}\\t{}\\t{}\\n'.format(self.get_met_comp(species.getId()), default_conc, boundary))\n",
    "   \n",
    "    def getDeltaG( self, rxnName ):\n",
    "        if rxnName in self.deltag:\n",
    "            return self.deltag[rxnName]\n",
    "        else:\n",
    "            return 0.0\n",
    "    def write_reactions( self, filename):\n",
    "        with open(filename, 'w') as out:\n",
    "            for rxn in self.sbml.getListOfReactions():\n",
    "                out.write('REACTION\\t{}\\n'.format(rxn.getName()))\n",
    "                out.write('LEFT\\t{}\\n'.format(' + '.join([self.get_met_comp(sr.getSpecies()) \n",
    "                                                         for sr in rxn.getListOfReactants()])))\n",
    "                out.write('RIGHT\\t{}\\n'.format(' + '.join([self.get_met_comp(sr.getSpecies()) \n",
    "                                                         for sr in rxn.getListOfProducts()])))\n",
    "                out.write('DGZERO\\t{}\\n'.format(self.getDeltaG(rxn.getName())))\n",
    "                out.write('DGZERO_UNITS\\t{}\\n'.format('KCAL/MOL'))\n",
    "                out.write('//\\n')\n",
    "                         \n",
    "s2b = sbml2boltzmann(m, deltag['DeltaG(pH7.3)'].to_dict())\n",
    "s2b.get_met_comp('M_CPD__45__548')\n",
    "s2b.write_compartment('nc12.cmpts')\n",
    "s2b.write_concentrations('nc12.concs.in')\n",
    "s2b.write_reactions('nc12.rxns.dat')"
   ]
  },
  {
   "cell_type": "markdown",
   "metadata": {},
   "source": [
    "# Boltzmann to COBRA"
   ]
  },
  {
   "cell_type": "code",
   "execution_count": 100,
   "metadata": {
    "ExecuteTime": {
     "end_time": "2018-01-03T20:39:33.081966Z",
     "start_time": "2018-01-03T20:39:32.857510Z"
    }
   },
   "outputs": [],
   "source": [
    "import cobra, os,re\n",
    "from fractions import Fraction\n",
    "def char2ord( matchobj ):\n",
    "    return '__{}__'.format( ord(matchobj.group(0)) )\n",
    "class boltzmann2cobra:\n",
    "    def __init__( self ):\n",
    "        self.model = cobra.Model()\n",
    "        self.metabolites = set()\n",
    "    \n",
    "    \n",
    "    def munge( self, Id, prefix='M_', regexp=r'[^A-Za-z0-9_]' ):\n",
    "        return prefix + re.sub(regexp, char2ord, Id )\n",
    "           \n",
    "    def dat2model( self, datfile ):\n",
    "        attributes = ['REACTION','LEFT','RIGHT','LEFT_COMPARTMENT','RIGHT_COMPARTMENT','ENZYME_LEVEL','NREGULATION','COMMENT', 'COMMENTS','PATHWAY']\n",
    "        with open(datfile) as dat:\n",
    "            modelname = os.path.splitext(os.path.basename(datfile))[0]\n",
    "            self.model.id = self.munge(modelname)\n",
    "            self.model.name = modelname\n",
    "            rxns = []\n",
    "            rxn = {}\n",
    "            for line in dat:\n",
    "                if line.strip() != '//' and line[0] != '#':\n",
    "                    cols = line.strip().split('\\t')\n",
    "                    if len(cols) >= 2:\n",
    "                        attribute, value = cols[0].strip(), cols[1].strip()\n",
    "                        if attribute in attributes:\n",
    "                            if attribute in rxn:\n",
    "                                rxn[attribute] += value\n",
    "                            else:\n",
    "                                rxn[attribute] = value\n",
    "                    elif cols[0] == 'COMMENT':\n",
    "                        pass\n",
    "                    else:\n",
    "                        print(line)\n",
    "                        print(rxn)\n",
    "                elif line.strip() == '//':\n",
    "                    if 'REACTION' not in rxn:\n",
    "                        print(rxn)\n",
    "                    reaction = self.create_reaction( rxn )\n",
    "                    rxns.append(reaction)\n",
    "                    rxn = {}\n",
    "        return self.model\n",
    "    def parse_mixture( self, rxn ):\n",
    "        pattern = re.compile(r'([0-9./]+\\s+)?(.*)')\n",
    "        parts = {}\n",
    "        for side in ['LEFT','RIGHT']:\n",
    "            compartment = rxn['{}_COMPARTMENT'.format( side )]\n",
    "            for part in rxn[side].split(' + '):\n",
    "                m = pattern.search(part.strip())\n",
    "                if m:\n",
    "                    if not m.group(1) or m.group(1) == '':\n",
    "                        stoichiometry = 1\n",
    "                    elif '.' in m.group(1):\n",
    "                        stoichiometry = float(m.group(1).strip())\n",
    "                    else:\n",
    "                        stoichiometry = int(m.group(1).strip())\n",
    "                    if side=='LEFT':\n",
    "                        stoichiometry = -stoichiometry\n",
    "                    species =  m.group(2).strip()\n",
    "                    met = cobra.Metabolite(\"{}:{}\".format(species, compartment),name=species, compartment=compartment)\n",
    "                    if met not in self.model.metabolites:\n",
    "                        self.model.add_metabolites( [met] )\n",
    "                    parts[met] =  stoichiometry\n",
    "        return parts\n",
    "\n",
    "    def create_reaction( self, rxn, prefix='', regexp='~'):\n",
    "        reaction  = cobra.Reaction()\n",
    "        reaction.id = self.munge(rxn['REACTION'], 'R_')\n",
    "        reaction.name = rxn['REACTION']    \n",
    "        self.model.add_reactions([reaction])\n",
    "        reaction.add_metabolites( self.parse_mixture( rxn ))\n",
    "        return reaction\n"
   ]
  },
  {
   "cell_type": "code",
   "execution_count": 102,
   "metadata": {
    "ExecuteTime": {
     "end_time": "2018-01-03T21:07:26.572784Z",
     "start_time": "2018-01-03T21:07:26.506942Z"
    },
    "scrolled": false
   },
   "outputs": [],
   "source": [
    "b2c = boltzmann2cobra()\n",
    "model = b2c.dat2model('neurospora_pentose_phos.glycolysis.tca.2.dat')\n",
    "cobra.io.save_json_model(model, 'neurospora_pentose_phos.glycolysis.tca.2.json',sort=True,pretty=True)"
   ]
  },
  {
   "cell_type": "code",
   "execution_count": 9,
   "metadata": {
    "ExecuteTime": {
     "end_time": "2018-01-03T01:02:46.237996Z",
     "start_time": "2018-01-03T01:02:46.078149Z"
    }
   },
   "outputs": [
    {
     "name": "stdout",
     "output_type": "stream",
     "text": [
      "REACTION ME1m\r\n",
      "LEFT\t(S)-MALATE + NAD+ \r\n",
      "RIGHT\tpyruvate + NADH + CO2\r\n",
      "LEFT_COMPARTMENT MITOCHONDRIA\r\n",
      "RIGHT_COMPARTMENT MITOCHONDRIA\r\n",
      "ENZYME_LEVEL\t0.0\r\n",
      "//\r\n",
      "REACTION ME2m\r\n",
      "LEFT    (S)-MALATE + NADP+\r\n",
      "RIGHT   PYRUVATE + NADPH + CO2\r\n"
     ]
    }
   ],
   "source": [
    "!head neurospora_pentose_phos.glycolysis.tca.2.dat"
   ]
  }
 ],
 "metadata": {
  "kernelspec": {
   "display_name": "Python 3",
   "language": "python",
   "name": "python3"
  },
  "language_info": {
   "codemirror_mode": {
    "name": "ipython",
    "version": 3
   },
   "file_extension": ".py",
   "mimetype": "text/x-python",
   "name": "python",
   "nbconvert_exporter": "python",
   "pygments_lexer": "ipython3",
   "version": "3.6.1"
  },
  "toc": {
   "colors": {
    "hover_highlight": "#DAA520",
    "navigate_num": "#000000",
    "navigate_text": "#333333",
    "running_highlight": "#FF0000",
    "selected_highlight": "#FFD700",
    "sidebar_border": "#EEEEEE",
    "wrapper_background": "#FFFFFF"
   },
   "moveMenuLeft": true,
   "nav_menu": {
    "height": "30px",
    "width": "252px"
   },
   "navigate_menu": true,
   "number_sections": true,
   "sideBar": true,
   "threshold": 4,
   "toc_cell": false,
   "toc_section_display": "block",
   "toc_window_display": false,
   "widenNotebook": false
  },
  "varInspector": {
   "cols": {
    "lenName": 16,
    "lenType": 16,
    "lenVar": 40
   },
   "kernels_config": {
    "python": {
     "delete_cmd_postfix": "",
     "delete_cmd_prefix": "del ",
     "library": "var_list.py",
     "varRefreshCmd": "print(var_dic_list())"
    },
    "r": {
     "delete_cmd_postfix": ") ",
     "delete_cmd_prefix": "rm(",
     "library": "var_list.r",
     "varRefreshCmd": "cat(var_dic_list()) "
    }
   },
   "types_to_exclude": [
    "module",
    "function",
    "builtin_function_or_method",
    "instance",
    "_Feature"
   ],
   "window_display": false
  }
 },
 "nbformat": 4,
 "nbformat_minor": 2
}
